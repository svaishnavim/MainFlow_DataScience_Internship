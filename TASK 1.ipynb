{
 "cells": [
  {
   "cell_type": "markdown",
   "id": "c7acabcd",
   "metadata": {},
   "source": [
    "## LISTS"
   ]
  },
  {
   "cell_type": "code",
   "execution_count": 1,
   "id": "b60e0984",
   "metadata": {},
   "outputs": [
    {
     "name": "stdout",
     "output_type": "stream",
     "text": [
      "1 2 3 4 \n",
      "Original Input List: [1, 2, 3, 4]\n",
      "New value to add: 5\n",
      "After adding the new value: [1, 2, 3, 4, 5]\n",
      "Value to remove: 3\n",
      "List after removing value: [1, 2, 4, 5]\n",
      "Which position in the list should be modified? 2\n",
      "Value at position to be modified: 56\n",
      "List after modifying a value at position 2: [1, 2, 56, 5]\n"
     ]
    }
   ],
   "source": [
    "inpList = list(map(int, input().split()))\n",
    "print(f\"Original Input List: {inpList}\") #original input list\n",
    "\n",
    "#adding element to list\n",
    "newVal = int(input(\"New value to add: \"))\n",
    "inpList.append(newVal)\n",
    "print(f\"After adding the new value: {inpList}\")\n",
    "\n",
    "#removing element from list\n",
    "valToRemove = int(input(\"Value to remove: \"))\n",
    "if valToRemove in inpList:\n",
    "    inpList.remove(valToRemove)\n",
    "    print(f\"List after removing value: {inpList}\")\n",
    "else: print(f\"{valToRemove} is not in the list\")\n",
    "\n",
    "    #modify an element in a list\n",
    "indexToModify = int(input(\"Which position in the list should be modified? \"))\n",
    "if 0 <= indexToModify < len(inpList):\n",
    "    valToModify = int(input(\"Value at position to be modified: \"))\n",
    "    inpList[indexToModify] = valToModify\n",
    "    print(f\"List after modifying a value at position {indexToModify}: {inpList}\")\n",
    "else: print(\"Invalid Index\")"
   ]
  },
  {
   "cell_type": "markdown",
   "id": "0b611ce7",
   "metadata": {},
   "source": [
    "## DICTIONARIES"
   ]
  },
  {
   "cell_type": "code",
   "execution_count": 3,
   "id": "aa000a11",
   "metadata": {},
   "outputs": [
    {
     "name": "stdout",
     "output_type": "stream",
     "text": [
      "Enter number of items in dictionary: 1\n",
      "Enter a key label: 1\n",
      "Enter a value for key: 67\n",
      "Original Input Dictionary: {'1': '67'}\n",
      "Enter key label: 2\n",
      "Enter value to add: 634\n",
      "Dictionary after adding element: {'1': '67', '2': '634'}\n",
      "Enter key to remove: 2\n",
      "Dictionary after removing 2:  {'1': '67'}\n",
      "Enter key to modify: 1\n",
      "Enter the new value to modify: 76\n",
      "Dictionary after modifying: {'1': '76'}\n"
     ]
    }
   ],
   "source": [
    "inpDictionary ={} #initialise\n",
    "numOfItems = int(input(\"Enter number of items in dictionary: \"))\n",
    "for i in range(numOfItems):\n",
    "    key = input(\"Enter a key label: \")\n",
    "    value = input(\"Enter a value for key: \")\n",
    "    inpDictionary[key] = value\n",
    "print(f\"Original Input Dictionary: {inpDictionary}\")\n",
    "\n",
    "#add element to dictionary\n",
    "key = input(\"Enter key label: \")\n",
    "value = input(\"Enter value to add: \")\n",
    "inpDictionary[key] = value\n",
    "print(f\"Dictionary after adding element: {inpDictionary}\")\n",
    "\n",
    "#remove element to dictionary\n",
    "keyToRemove = input(\"Enter key to remove: \")\n",
    "if keyToRemove in inpDictionary:\n",
    "    del inpDictionary[keyToRemove]\n",
    "    print(f\"Dictionary after removing {keyToRemove}: \", inpDictionary)\n",
    "else: print(f\"{keyToRemove} is invalid\")\n",
    "\n",
    "#modifying element\n",
    "keyToModify = input(\"Enter key to modify: \")\n",
    "if keyToModify in inpDictionary:\n",
    "    valueToModify = input(\"Enter the new value to modify: \")\n",
    "    inpDictionary[keyToModify] = valueToModify\n",
    "    print(f\"Dictionary after modifying: {inpDictionary}\")\n",
    "else: print(f\"{keyToModify} is invalid\")"
   ]
  },
  {
   "cell_type": "markdown",
   "id": "38fba7e9",
   "metadata": {},
   "source": [
    "## SETS"
   ]
  },
  {
   "cell_type": "code",
   "execution_count": 5,
   "id": "7b6d49a7",
   "metadata": {},
   "outputs": [
    {
     "name": "stdout",
     "output_type": "stream",
     "text": [
      "Number of items in set: 2\n",
      "Enter element to add: 12\n",
      "Enter element to add: 232\n",
      "Set after adding elements: {'232', '12'}\n",
      "Enter element to remove: 232\n",
      "Set after removing element: {'12'}\n",
      "Enter element to modify: 12\n",
      "Enter modified value: 7654\n",
      "Set after modifying: {'7654'}\n"
     ]
    }
   ],
   "source": [
    "inpSet = set()\n",
    "numOfItems_Add = int(input(\"Number of items in set: \"))\n",
    "\n",
    "#add elements into set\n",
    "for i in range(numOfItems_Add):\n",
    "    addElement = input(\"Enter element to add: \")\n",
    "    inpSet.add(addElement)\n",
    "print(f\"Set after adding elements: {inpSet}\")\n",
    "\n",
    "#remove elements from set\n",
    "elementToRemove = input(\"Enter element to remove: \")\n",
    "if elementToRemove in inpSet:\n",
    "    inpSet.discard(elementToRemove)\n",
    "    print(f\"Set after removing element: {inpSet}\")\n",
    "else: print(f\"{elementToRemove} not in set\")\n",
    "\n",
    "#modifying elements in set\n",
    "elementToModify = input(\"Enter element to modify: \")\n",
    "if elementToModify in inpSet:\n",
    "    modifiedValue = input(\"Enter modified value: \")\n",
    "    inpSet.remove(elementToModify)\n",
    "    inpSet.add(modifiedValue)\n",
    "else: print(f\"{elementToModify} not in set\")\n",
    "print(f\"Set after modifying: {inpSet}\")"
   ]
  },
  {
   "cell_type": "code",
   "execution_count": null,
   "id": "b3036eea",
   "metadata": {},
   "outputs": [],
   "source": []
  }
 ],
 "metadata": {
  "kernelspec": {
   "display_name": "Python 3 (ipykernel)",
   "language": "python",
   "name": "python3"
  },
  "language_info": {
   "codemirror_mode": {
    "name": "ipython",
    "version": 3
   },
   "file_extension": ".py",
   "mimetype": "text/x-python",
   "name": "python",
   "nbconvert_exporter": "python",
   "pygments_lexer": "ipython3",
   "version": "3.11.5"
  }
 },
 "nbformat": 4,
 "nbformat_minor": 5
}
